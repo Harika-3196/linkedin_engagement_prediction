{
 "cells": [
  {
   "cell_type": "code",
   "execution_count": 1,
   "metadata": {},
   "outputs": [],
   "source": [
    "import re\n",
    "import os\n",
    "import pickle\n",
    "import pandas as pd"
   ]
  },
  {
   "cell_type": "markdown",
   "metadata": {},
   "source": [
    "### Post Data Cleaning"
   ]
  },
  {
   "cell_type": "code",
   "execution_count": 2,
   "metadata": {},
   "outputs": [
    {
     "data": {
      "text/html": [
       "<div>\n",
       "<style scoped>\n",
       "    .dataframe tbody tr th:only-of-type {\n",
       "        vertical-align: middle;\n",
       "    }\n",
       "\n",
       "    .dataframe tbody tr th {\n",
       "        vertical-align: top;\n",
       "    }\n",
       "\n",
       "    .dataframe thead th {\n",
       "        text-align: right;\n",
       "    }\n",
       "</style>\n",
       "<table border=\"1\" class=\"dataframe\">\n",
       "  <thead>\n",
       "    <tr style=\"text-align: right;\">\n",
       "      <th></th>\n",
       "      <th>unique_id</th>\n",
       "      <th>name</th>\n",
       "      <th>profile_link</th>\n",
       "      <th>content</th>\n",
       "      <th>likes</th>\n",
       "      <th>comments</th>\n",
       "      <th>shares</th>\n",
       "      <th>time_posted</th>\n",
       "      <th>url_link</th>\n",
       "    </tr>\n",
       "  </thead>\n",
       "  <tbody>\n",
       "    <tr>\n",
       "      <th>0</th>\n",
       "      <td>f7f09bda-eced-4a7e-9294-5582e265e551</td>\n",
       "      <td>James Pastore</td>\n",
       "      <td>https://www.linkedin.com/in/james-pastore-2b92...</td>\n",
       "      <td>Extremely pertinent this time of the school ye...</td>\n",
       "      <td>3,363</td>\n",
       "      <td>106 comments</td>\n",
       "      <td>0 shares</td>\n",
       "      <td>1w •\\n1 week ago</td>\n",
       "      <td>https://media-exp1.licdn.com/dms/image/C4E22AQ...</td>\n",
       "    </tr>\n",
       "    <tr>\n",
       "      <th>1</th>\n",
       "      <td>babe72d6-40ff-417f-b9e0-872092a4c50b</td>\n",
       "      <td>SoilCup- Connecting Entrepreneurs</td>\n",
       "      <td>https://www.linkedin.com/in/soilcup</td>\n",
       "      <td>#meaningful</td>\n",
       "      <td>1</td>\n",
       "      <td>0 comments</td>\n",
       "      <td>0 shares</td>\n",
       "      <td>5d •\\n5 days ago</td>\n",
       "      <td>null</td>\n",
       "    </tr>\n",
       "  </tbody>\n",
       "</table>\n",
       "</div>"
      ],
      "text/plain": [
       "                              unique_id                               name  \\\n",
       "0  f7f09bda-eced-4a7e-9294-5582e265e551                      James Pastore   \n",
       "1  babe72d6-40ff-417f-b9e0-872092a4c50b  SoilCup- Connecting Entrepreneurs   \n",
       "\n",
       "                                        profile_link  \\\n",
       "0  https://www.linkedin.com/in/james-pastore-2b92...   \n",
       "1                https://www.linkedin.com/in/soilcup   \n",
       "\n",
       "                                             content  likes      comments  \\\n",
       "0  Extremely pertinent this time of the school ye...  3,363  106 comments   \n",
       "1                                        #meaningful      1    0 comments   \n",
       "\n",
       "     shares       time_posted  \\\n",
       "0  0 shares  1w •\\n1 week ago   \n",
       "1  0 shares  5d •\\n5 days ago   \n",
       "\n",
       "                                            url_link  \n",
       "0  https://media-exp1.licdn.com/dms/image/C4E22AQ...  \n",
       "1                                               null  "
      ]
     },
     "execution_count": 2,
     "metadata": {},
     "output_type": "execute_result"
    }
   ],
   "source": [
    "def read_pickle(file_path):\n",
    "    \"\"\"\n",
    "    args:\n",
    "        file_path : pass the file location\n",
    "    returns:\n",
    "        data from the pickle file\n",
    "    function:\n",
    "        load the pickle file and returns the data\n",
    "    \"\"\"\n",
    "    with open(file_path,\"rb\") as handle:\n",
    "        data=pickle.load(handle)\n",
    "    return data\n",
    "\n",
    "post_data_dir = \"../data/linkedincrawldata/post_data_final\"\n",
    "post_files = os.listdir(post_data_dir)\n",
    "post_files = [os.path.join(post_data_dir,file_) for file_ in post_files]\n",
    "\n",
    "post_data = []\n",
    "for file_ in post_files:\n",
    "    data = read_pickle(file_)\n",
    "    post_data.extend(data)\n",
    "\n",
    "post_data_df = pd.DataFrame(post_data)\n",
    "post_data_df.head(2)"
   ]
  },
  {
   "cell_type": "code",
   "execution_count": 3,
   "metadata": {},
   "outputs": [],
   "source": [
    "# step 1: copy if share in comments to shares\n",
    "# step 2: if share is present in comments then replace with 0\n",
    "\n",
    "def copy_shares(comment,shares):\n",
    "    if 'share' in comment:\n",
    "        return comment\n",
    "    else:\n",
    "        return shares\n",
    "\n",
    "post_data_df[\"shares\"]=post_data_df.apply(lambda x:copy_shares(x[\"comments\"],x[\"shares\"]),axis=1)\n",
    "\n",
    "def replace_comments(comments):\n",
    "    if 'share' in comments:\n",
    "        return '0 comments'\n",
    "    else:\n",
    "        return comments\n",
    "\n",
    "post_data_df[\"comments\"] = post_data_df[\"comments\"].apply(lambda x:replace_comments(x))\n",
    "post_data_df[\"comments\"] = post_data_df[\"comments\"].apply(lambda x:int(re.sub(\",\",\"\",x.split(\" \")[0])))\n",
    "post_data_df[\"shares\"] = post_data_df[\"shares\"].apply(lambda x:int(re.sub(\",\",\"\",x.split(\" \")[0])))\n",
    "post_data_df[\"likes\"] = post_data_df[\"likes\"].apply(lambda x: int(re.sub(\",\",\"\",x.split(\"\\n\")[0])))"
   ]
  },
  {
   "cell_type": "code",
   "execution_count": 4,
   "metadata": {},
   "outputs": [],
   "source": [
    "post_data_df[\"is_promoted\"]=post_data_df[\"time_posted\"].apply(lambda x: 1 if x==\"Promoted\" else 0)\n",
    "post_data_df[\"time_posted\"]=post_data_df[\"time_posted\"].apply(lambda x: \"-1h •\\n-1 hour ago\" if x==\"Promoted\" else x )\n",
    "post_data_df[\"time_posted\"]=post_data_df[\"time_posted\"].apply(lambda x:x.split(\" \")[0])"
   ]
  },
  {
   "cell_type": "code",
   "execution_count": 6,
   "metadata": {},
   "outputs": [],
   "source": [
    "post_data_df.to_pickle(\"../data/cleaned_post_data.pickle\")"
   ]
  },
  {
   "cell_type": "markdown",
   "metadata": {},
   "source": [
    "### Profile Data Cleaning"
   ]
  },
  {
   "cell_type": "code",
   "execution_count": 8,
   "metadata": {},
   "outputs": [],
   "source": [
    "profile_data_dir = \"../data/linkedincrawldata/profile_data\"\n",
    "profile_files = os.listdir(profile_data_dir)\n",
    "profile_files = [os.path.join(profile_data_dir,file_) for file_ in profile_files]\n",
    "\n",
    "profile_data = []\n",
    "for file_ in profile_files:\n",
    "    data = read_pickle(file_)\n",
    "    profile_data.extend(data)"
   ]
  },
  {
   "cell_type": "code",
   "execution_count": 13,
   "metadata": {},
   "outputs": [
    {
     "data": {
      "text/html": [
       "<div>\n",
       "<style scoped>\n",
       "    .dataframe tbody tr th:only-of-type {\n",
       "        vertical-align: middle;\n",
       "    }\n",
       "\n",
       "    .dataframe tbody tr th {\n",
       "        vertical-align: top;\n",
       "    }\n",
       "\n",
       "    .dataframe thead th {\n",
       "        text-align: right;\n",
       "    }\n",
       "</style>\n",
       "<table border=\"1\" class=\"dataframe\">\n",
       "  <thead>\n",
       "    <tr style=\"text-align: right;\">\n",
       "      <th></th>\n",
       "      <th>link</th>\n",
       "      <th>followers</th>\n",
       "      <th>connections</th>\n",
       "      <th>profile_description</th>\n",
       "    </tr>\n",
       "  </thead>\n",
       "  <tbody>\n",
       "    <tr>\n",
       "      <th>0</th>\n",
       "      <td>https://www.linkedin.com/in/priyakanagarajan</td>\n",
       "      <td>8,030 followers</td>\n",
       "      <td>500+ connections</td>\n",
       "      <td>EA to VP | Site Engagement BP</td>\n",
       "    </tr>\n",
       "    <tr>\n",
       "      <th>1</th>\n",
       "      <td>https://www.linkedin.com/in/peter-erdei-30b51a134</td>\n",
       "      <td>11,440 followers</td>\n",
       "      <td>500+ connections</td>\n",
       "      <td>At Erdei Designs, we utilize old-world craftsm...</td>\n",
       "    </tr>\n",
       "  </tbody>\n",
       "</table>\n",
       "</div>"
      ],
      "text/plain": [
       "                                                link         followers  \\\n",
       "0       https://www.linkedin.com/in/priyakanagarajan   8,030 followers   \n",
       "1  https://www.linkedin.com/in/peter-erdei-30b51a134  11,440 followers   \n",
       "\n",
       "        connections                                profile_description  \n",
       "0  500+ connections                      EA to VP | Site Engagement BP  \n",
       "1  500+ connections  At Erdei Designs, we utilize old-world craftsm...  "
      ]
     },
     "execution_count": 13,
     "metadata": {},
     "output_type": "execute_result"
    }
   ],
   "source": [
    "profile_data_df=pd.DataFrame(profile_data)\n",
    "profile_data_df.head(2)"
   ]
  },
  {
   "cell_type": "code",
   "execution_count": 14,
   "metadata": {},
   "outputs": [],
   "source": [
    "profile_data_df[\"followers\"]=profile_data_df[\"followers\"].apply(lambda x:\"0 followers\" if x==-1 or x==\"\" else x)\n",
    "profile_data_df[\"connections\"]=profile_data_df[\"connections\"].apply(lambda x:\"0 connections\" if x==-1 or x==\"\" else x)"
   ]
  },
  {
   "cell_type": "code",
   "execution_count": 15,
   "metadata": {},
   "outputs": [],
   "source": [
    "profile_data_df[\"followers\"] =profile_data_df[\"followers\"].apply(lambda x:int(re.sub(\",\",\"\",x.split(\" \")[0])))\n",
    "profile_data_df[\"connections\"] =profile_data_df[\"connections\"].apply(lambda x:int(re.sub(\"\\+\",\"\",x.split(\" \")[0])))\n"
   ]
  },
  {
   "cell_type": "code",
   "execution_count": 17,
   "metadata": {},
   "outputs": [],
   "source": [
    "profile_data_df.to_pickle(\"../data/cleaned_profile_data.pickle\")"
   ]
  }
 ],
 "metadata": {
  "interpreter": {
   "hash": "082e9a3bcad0a290d0001e938aa60b99250c6c2ef33a923c00b70f9826caf4b7"
  },
  "kernelspec": {
   "display_name": "Python 3.8.0 64-bit",
   "name": "python3"
  },
  "language_info": {
   "codemirror_mode": {
    "name": "ipython",
    "version": 3
   },
   "file_extension": ".py",
   "mimetype": "text/x-python",
   "name": "python",
   "nbconvert_exporter": "python",
   "pygments_lexer": "ipython3",
   "version": "3.8.0"
  },
  "orig_nbformat": 4
 },
 "nbformat": 4,
 "nbformat_minor": 2
}